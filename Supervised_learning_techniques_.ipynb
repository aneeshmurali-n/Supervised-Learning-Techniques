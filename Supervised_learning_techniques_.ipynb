{
  "nbformat": 4,
  "nbformat_minor": 0,
  "metadata": {
    "colab": {
      "provenance": [],
      "authorship_tag": "ABX9TyO44/hpnqSG9dJLMo2Ytgur",
      "include_colab_link": true
    },
    "kernelspec": {
      "name": "python3",
      "display_name": "Python 3"
    },
    "language_info": {
      "name": "python"
    }
  },
  "cells": [
    {
      "cell_type": "markdown",
      "metadata": {
        "id": "view-in-github",
        "colab_type": "text"
      },
      "source": [
        "<a href=\"https://colab.research.google.com/github/aneeshmurali-n/Supervised-Learning-Techniques/blob/main/Supervised_learning_techniques_.ipynb\" target=\"_parent\"><img src=\"https://colab.research.google.com/assets/colab-badge.svg\" alt=\"Open In Colab\"/></a>"
      ]
    },
    {
      "cell_type": "markdown",
      "source": [
        "## Import Libraries"
      ],
      "metadata": {
        "id": "iAokcJ5SpKiw"
      }
    },
    {
      "cell_type": "code",
      "source": [
        "from sklearn.model_selection import train_test_split\n",
        "from sklearn.preprocessing import StandardScaler\n",
        "from sklearn.datasets import load_breast_cancer\n",
        "import numpy as np\n",
        "import pandas as pd\n",
        "import seaborn as sns\n",
        "import matplotlib.pyplot as plt\n",
        "from sklearn.linear_model import LogisticRegression\n",
        "from sklearn.tree import DecisionTreeClassifier\n",
        "from sklearn.ensemble import RandomForestClassifier\n",
        "from sklearn.svm import SVC\n",
        "from sklearn.neighbors import KNeighborsClassifier\n",
        "from sklearn.metrics import classification_report, f1_score, accuracy_score"
      ],
      "metadata": {
        "id": "GBfR5nEg1UYp"
      },
      "execution_count": 1,
      "outputs": []
    },
    {
      "cell_type": "markdown",
      "source": [
        "## Dataset : Use the breast cancer dataset available in the sklearn library."
      ],
      "metadata": {
        "id": "qJZp5zQGoY_-"
      }
    },
    {
      "cell_type": "markdown",
      "source": [
        "## 1. Loading and Preprocessing"
      ],
      "metadata": {
        "id": "0JyjEjfmpA-K"
      }
    },
    {
      "cell_type": "markdown",
      "source": [
        "### Load the breast cancer dataset from sklearn."
      ],
      "metadata": {
        "id": "h_wwHP0nvZaB"
      }
    },
    {
      "cell_type": "code",
      "source": [
        "# load breast cancer dataset\n",
        "data = load_breast_cancer()"
      ],
      "metadata": {
        "id": "7_FoXk43s1xC"
      },
      "execution_count": 2,
      "outputs": []
    },
    {
      "cell_type": "code",
      "source": [
        "data.data.shape"
      ],
      "metadata": {
        "colab": {
          "base_uri": "https://localhost:8080/"
        },
        "id": "nyHCCp2HADCE",
        "outputId": "427b8e35-5759-46cd-fc39-9ac2ccb47bdd"
      },
      "execution_count": 3,
      "outputs": [
        {
          "output_type": "execute_result",
          "data": {
            "text/plain": [
              "(569, 30)"
            ]
          },
          "metadata": {},
          "execution_count": 3
        }
      ]
    },
    {
      "cell_type": "code",
      "source": [
        "data.feature_names"
      ],
      "metadata": {
        "colab": {
          "base_uri": "https://localhost:8080/"
        },
        "id": "18HTXUuIyRA8",
        "outputId": "ba834470-3b00-4cf9-9dcd-21da04c29fec"
      },
      "execution_count": 4,
      "outputs": [
        {
          "output_type": "execute_result",
          "data": {
            "text/plain": [
              "array(['mean radius', 'mean texture', 'mean perimeter', 'mean area',\n",
              "       'mean smoothness', 'mean compactness', 'mean concavity',\n",
              "       'mean concave points', 'mean symmetry', 'mean fractal dimension',\n",
              "       'radius error', 'texture error', 'perimeter error', 'area error',\n",
              "       'smoothness error', 'compactness error', 'concavity error',\n",
              "       'concave points error', 'symmetry error',\n",
              "       'fractal dimension error', 'worst radius', 'worst texture',\n",
              "       'worst perimeter', 'worst area', 'worst smoothness',\n",
              "       'worst compactness', 'worst concavity', 'worst concave points',\n",
              "       'worst symmetry', 'worst fractal dimension'], dtype='<U23')"
            ]
          },
          "metadata": {},
          "execution_count": 4
        }
      ]
    },
    {
      "cell_type": "code",
      "source": [
        "# View data\n",
        "data.data"
      ],
      "metadata": {
        "colab": {
          "base_uri": "https://localhost:8080/"
        },
        "id": "GDW6IQxys3nj",
        "outputId": "5066d219-7535-4416-af85-97b3102b840e"
      },
      "execution_count": 5,
      "outputs": [
        {
          "output_type": "execute_result",
          "data": {
            "text/plain": [
              "array([[1.799e+01, 1.038e+01, 1.228e+02, ..., 2.654e-01, 4.601e-01,\n",
              "        1.189e-01],\n",
              "       [2.057e+01, 1.777e+01, 1.329e+02, ..., 1.860e-01, 2.750e-01,\n",
              "        8.902e-02],\n",
              "       [1.969e+01, 2.125e+01, 1.300e+02, ..., 2.430e-01, 3.613e-01,\n",
              "        8.758e-02],\n",
              "       ...,\n",
              "       [1.660e+01, 2.808e+01, 1.083e+02, ..., 1.418e-01, 2.218e-01,\n",
              "        7.820e-02],\n",
              "       [2.060e+01, 2.933e+01, 1.401e+02, ..., 2.650e-01, 4.087e-01,\n",
              "        1.240e-01],\n",
              "       [7.760e+00, 2.454e+01, 4.792e+01, ..., 0.000e+00, 2.871e-01,\n",
              "        7.039e-02]])"
            ]
          },
          "metadata": {},
          "execution_count": 5
        }
      ]
    },
    {
      "cell_type": "code",
      "source": [
        "data.target_names"
      ],
      "metadata": {
        "colab": {
          "base_uri": "https://localhost:8080/"
        },
        "id": "ErZCxQ_zBPiU",
        "outputId": "cfdfde16-5e9b-4fa3-c7c7-012c1d77b0fb"
      },
      "execution_count": 6,
      "outputs": [
        {
          "output_type": "execute_result",
          "data": {
            "text/plain": [
              "array(['malignant', 'benign'], dtype='<U9')"
            ]
          },
          "metadata": {},
          "execution_count": 6
        }
      ]
    },
    {
      "cell_type": "code",
      "source": [
        "# View target\n",
        "data.target"
      ],
      "metadata": {
        "colab": {
          "base_uri": "https://localhost:8080/"
        },
        "id": "pd015DuOs6t9",
        "outputId": "f6a58bd4-59ac-4d01-a6c5-ecad477fae31"
      },
      "execution_count": 7,
      "outputs": [
        {
          "output_type": "execute_result",
          "data": {
            "text/plain": [
              "array([0, 0, 0, 0, 0, 0, 0, 0, 0, 0, 0, 0, 0, 0, 0, 0, 0, 0, 0, 1, 1, 1,\n",
              "       0, 0, 0, 0, 0, 0, 0, 0, 0, 0, 0, 0, 0, 0, 0, 1, 0, 0, 0, 0, 0, 0,\n",
              "       0, 0, 1, 0, 1, 1, 1, 1, 1, 0, 0, 1, 0, 0, 1, 1, 1, 1, 0, 1, 0, 0,\n",
              "       1, 1, 1, 1, 0, 1, 0, 0, 1, 0, 1, 0, 0, 1, 1, 1, 0, 0, 1, 0, 0, 0,\n",
              "       1, 1, 1, 0, 1, 1, 0, 0, 1, 1, 1, 0, 0, 1, 1, 1, 1, 0, 1, 1, 0, 1,\n",
              "       1, 1, 1, 1, 1, 1, 1, 0, 0, 0, 1, 0, 0, 1, 1, 1, 0, 0, 1, 0, 1, 0,\n",
              "       0, 1, 0, 0, 1, 1, 0, 1, 1, 0, 1, 1, 1, 1, 0, 1, 1, 1, 1, 1, 1, 1,\n",
              "       1, 1, 0, 1, 1, 1, 1, 0, 0, 1, 0, 1, 1, 0, 0, 1, 1, 0, 0, 1, 1, 1,\n",
              "       1, 0, 1, 1, 0, 0, 0, 1, 0, 1, 0, 1, 1, 1, 0, 1, 1, 0, 0, 1, 0, 0,\n",
              "       0, 0, 1, 0, 0, 0, 1, 0, 1, 0, 1, 1, 0, 1, 0, 0, 0, 0, 1, 1, 0, 0,\n",
              "       1, 1, 1, 0, 1, 1, 1, 1, 1, 0, 0, 1, 1, 0, 1, 1, 0, 0, 1, 0, 1, 1,\n",
              "       1, 1, 0, 1, 1, 1, 1, 1, 0, 1, 0, 0, 0, 0, 0, 0, 0, 0, 0, 0, 0, 0,\n",
              "       0, 0, 1, 1, 1, 1, 1, 1, 0, 1, 0, 1, 1, 0, 1, 1, 0, 1, 0, 0, 1, 1,\n",
              "       1, 1, 1, 1, 1, 1, 1, 1, 1, 1, 1, 0, 1, 1, 0, 1, 0, 1, 1, 1, 1, 1,\n",
              "       1, 1, 1, 1, 1, 1, 1, 1, 1, 0, 1, 1, 1, 0, 1, 0, 1, 1, 1, 1, 0, 0,\n",
              "       0, 1, 1, 1, 1, 0, 1, 0, 1, 0, 1, 1, 1, 0, 1, 1, 1, 1, 1, 1, 1, 0,\n",
              "       0, 0, 1, 1, 1, 1, 1, 1, 1, 1, 1, 1, 1, 0, 0, 1, 0, 0, 0, 1, 0, 0,\n",
              "       1, 1, 1, 1, 1, 0, 1, 1, 1, 1, 1, 0, 1, 1, 1, 0, 1, 1, 0, 0, 1, 1,\n",
              "       1, 1, 1, 1, 0, 1, 1, 1, 1, 1, 1, 1, 0, 1, 1, 1, 1, 1, 0, 1, 1, 0,\n",
              "       1, 1, 1, 1, 1, 1, 1, 1, 1, 1, 1, 1, 0, 1, 0, 0, 1, 0, 1, 1, 1, 1,\n",
              "       1, 0, 1, 1, 0, 1, 0, 1, 1, 0, 1, 0, 1, 1, 1, 1, 1, 1, 1, 1, 0, 0,\n",
              "       1, 1, 1, 1, 1, 1, 0, 1, 1, 1, 1, 1, 1, 1, 1, 1, 1, 0, 1, 1, 1, 1,\n",
              "       1, 1, 1, 0, 1, 0, 1, 1, 0, 1, 1, 1, 1, 1, 0, 0, 1, 0, 1, 0, 1, 1,\n",
              "       1, 1, 1, 0, 1, 1, 0, 1, 0, 1, 0, 0, 1, 1, 1, 0, 1, 1, 1, 1, 1, 1,\n",
              "       1, 1, 1, 1, 1, 0, 1, 0, 0, 1, 1, 1, 1, 1, 1, 1, 1, 1, 1, 1, 1, 1,\n",
              "       1, 1, 1, 1, 1, 1, 1, 1, 1, 1, 1, 1, 0, 0, 0, 0, 0, 0, 1])"
            ]
          },
          "metadata": {},
          "execution_count": 7
        }
      ]
    },
    {
      "cell_type": "code",
      "source": [
        "# define x and y variables\n",
        "x = data.data\n",
        "y = data.target"
      ],
      "metadata": {
        "id": "HopTvQ5mtVKH"
      },
      "execution_count": 8,
      "outputs": []
    },
    {
      "cell_type": "markdown",
      "source": [
        "### Preprocess the data to handle any missing values and perform necessary feature scaling."
      ],
      "metadata": {
        "id": "HY2un3xdvwap"
      }
    },
    {
      "cell_type": "markdown",
      "source": [
        "#### handle any missing values"
      ],
      "metadata": {
        "id": "4WHWetTCwI9f"
      }
    },
    {
      "cell_type": "code",
      "source": [
        "# check nan values\n",
        "print(f\"nan value count in x = {np.isnan(x).sum()}\\n nan value count in y = {np.isnan(y).sum()}\")"
      ],
      "metadata": {
        "colab": {
          "base_uri": "https://localhost:8080/"
        },
        "id": "39KxjOXXuqia",
        "outputId": "12888976-9ebd-4757-95e4-3f95b384ebb6"
      },
      "execution_count": 9,
      "outputs": [
        {
          "output_type": "stream",
          "name": "stdout",
          "text": [
            "nan value count in x = 0\n",
            " nan value count in y = 0\n"
          ]
        }
      ]
    },
    {
      "cell_type": "markdown",
      "source": [
        "Here, The breast cancer dataset doesn't have any missing values, so no handling is needed."
      ],
      "metadata": {
        "id": "2aOKPyVewDhv"
      }
    },
    {
      "cell_type": "markdown",
      "source": [
        "#### Split the dataset for traing and testing"
      ],
      "metadata": {
        "id": "OhCookDsynta"
      }
    },
    {
      "cell_type": "code",
      "source": [
        "# Train test split\n",
        "x_train, x_test, y_train, y_test = train_test_split(x, y, test_size=0.2, random_state=42)\n"
      ],
      "metadata": {
        "id": "YRO4yg-TwfMN"
      },
      "execution_count": 10,
      "outputs": []
    },
    {
      "cell_type": "markdown",
      "source": [
        "#### Perform necessary feature scaling (StandardScaler)\n",
        "Standardization is necessary because the features have different scales, which can affect the performance of some algorithms. Standardization transforms the data to have a mean of 0 and a standard deviation of 1."
      ],
      "metadata": {
        "id": "ivTvcN2YwXEV"
      }
    },
    {
      "cell_type": "code",
      "source": [
        "std_scaler = StandardScaler()\n",
        "x_train = std_scaler.fit_transform(x_train)\n",
        "x_test = std_scaler.transform(x_test)\n",
        "print(f\"x_train  after scale = {x_train}\\n x_test after scale = {x_test}\")"
      ],
      "metadata": {
        "colab": {
          "base_uri": "https://localhost:8080/"
        },
        "id": "y3AY9msvzB2s",
        "outputId": "ca2e6f94-0e16-4410-87ad-5aec4d329fbf"
      },
      "execution_count": 11,
      "outputs": [
        {
          "output_type": "stream",
          "name": "stdout",
          "text": [
            "x_train  after scale = [[-1.44075296 -0.43531947 -1.36208497 ...  0.9320124   2.09724217\n",
            "   1.88645014]\n",
            " [ 1.97409619  1.73302577  2.09167167 ...  2.6989469   1.89116053\n",
            "   2.49783848]\n",
            " [-1.39998202 -1.24962228 -1.34520926 ... -0.97023893  0.59760192\n",
            "   0.0578942 ]\n",
            " ...\n",
            " [ 0.04880192 -0.55500086 -0.06512547 ... -1.23903365 -0.70863864\n",
            "  -1.27145475]\n",
            " [-0.03896885  0.10207345 -0.03137406 ...  1.05001236  0.43432185\n",
            "   1.21336207]\n",
            " [-0.54860557  0.31327591 -0.60350155 ... -0.61102866 -0.3345212\n",
            "  -0.84628745]]\n",
            " x_test after scale = [[-0.46649743 -0.13728933 -0.44421138 ... -0.19435087  0.17275669\n",
            "   0.20372995]\n",
            " [ 1.36536344  0.49866473  1.30551088 ...  0.99177862 -0.561211\n",
            "  -1.00838949]\n",
            " [ 0.38006578  0.06921974  0.40410139 ...  0.57035018 -0.10783139\n",
            "  -0.20629287]\n",
            " ...\n",
            " [-0.73547237 -0.99852603 -0.74138839 ... -0.27741059 -0.3820785\n",
            "  -0.32408328]\n",
            " [ 0.02898271  2.0334026   0.0274851  ... -0.49027026 -1.60905688\n",
            "  -0.33137507]\n",
            " [ 1.87216885  2.80077153  1.80354992 ...  0.7925579  -0.05868885\n",
            "  -0.09467243]]\n"
          ]
        }
      ]
    },
    {
      "cell_type": "markdown",
      "source": [
        "## Classification Algorithm Implementation and classification report"
      ],
      "metadata": {
        "id": "TLyLXV520pj6"
      }
    },
    {
      "cell_type": "markdown",
      "source": [
        "### About The Algorithm and Suitability\n",
        "\n",
        "- **Logistic Regression:** Logistic Regression is a simple and powerful algorithm used for binary classification. It models the probability that a given input belongs to a particular class by fitting a logistic function to the data. The output is a probability score between 0 and 1, which can be thresholded to classify into two categories.\n",
        "The breast cancer dataset is a binary classification problem, The Logistic Regression is designed for such tasks.<br><br>\n",
        "\n",
        "- **Decision Tree Classifier:**A Decision Tree splits the data into branches based on feature values to classify the data into categories. At each node, the algorithm chooses the best feature and threshold to split the data, aiming to maximize classification accuracy while minimizing entropy.\n",
        "Decision Trees can handle both categorical and continuous data, making them versatile.<br><br>\n",
        "\n",
        "- **Random Forest Classifier:** Random Forest builds multiple decision trees often hundreds and combines their outputs. Each tree is trained on a random subset of the data, and the final prediction is made by averaging the predictions from all the trees. for classification, this is typically done by majority vote.\n",
        "Random Forests reduce overfitting, a common issue with single decision trees, by averaging multiple tree predictions.\n",
        "The breast cancer dataset has a manageable number of features, making it good for this type of classification task.<br><br>\n",
        "-**Support Vector Machine(SVM):** SVM finds the optimal hyperplane to separate classes in the feature space. For non-linearly separable data, it can use kernel functions to map data into higher dimensions where it becomes linearly separable. SVM is effective in high-dimensional spaces, SVM is ideal for datasets where there is a clear margin of separation between classes, It can handle both linear and non-linear classification problems, SVM is is robust to overfitting.<br><br>\n",
        "\n",
        "- **k-Nearest Neighbors (k-NN):** k-NN is instance-based learning algorithm that classifies a new data point by looking at the \"k\" closest training points (neighbors) in feature space and assigning the majority class of those neighbors to the new point.k-NN is straightforward to understand and implement, making it a good baseline for comparison and it may struggle with high-dimensional data."
      ],
      "metadata": {
        "id": "PUsxezA_2Mji"
      }
    },
    {
      "cell_type": "code",
      "source": [
        "LR = LogisticRegression()\n",
        "DT = DecisionTreeClassifier()\n",
        "RF = RandomForestClassifier()\n",
        "SVM = SVC()\n",
        "KNN = KNeighborsClassifier()\n",
        "\n",
        "models = {'Logistic Regression': LR, 'Decision Tree Classifier': DT, 'Random Forest Classifier': RF, 'Support Vector Machine': SVM, 'K-Nearest Neighbors': KNN}\n",
        "report = {}\n",
        "for model_name, model in models.items():\n",
        "    model.fit(x_train, y_train)\n",
        "    y_pred = model.predict(x_test)\n",
        "    print(f\"{model_name}:\\n{'-'*70}\\n{classification_report(y_test, y_pred)}\\n\\n\")\n",
        "    report[model_name] = classification_report(y_test, y_pred, output_dict=True)\n"
      ],
      "metadata": {
        "colab": {
          "base_uri": "https://localhost:8080/"
        },
        "id": "P2W7ZdnH0pCC",
        "outputId": "c79dbbc3-b18d-41fd-9755-6f6f75c325fc"
      },
      "execution_count": 12,
      "outputs": [
        {
          "output_type": "stream",
          "name": "stdout",
          "text": [
            "Logistic Regression:\n",
            "----------------------------------------------------------------------\n",
            "              precision    recall  f1-score   support\n",
            "\n",
            "           0       0.98      0.95      0.96        43\n",
            "           1       0.97      0.99      0.98        71\n",
            "\n",
            "    accuracy                           0.97       114\n",
            "   macro avg       0.97      0.97      0.97       114\n",
            "weighted avg       0.97      0.97      0.97       114\n",
            "\n",
            "\n",
            "\n",
            "Decision Tree Classifier:\n",
            "----------------------------------------------------------------------\n",
            "              precision    recall  f1-score   support\n",
            "\n",
            "           0       0.93      0.93      0.93        43\n",
            "           1       0.96      0.96      0.96        71\n",
            "\n",
            "    accuracy                           0.95       114\n",
            "   macro avg       0.94      0.94      0.94       114\n",
            "weighted avg       0.95      0.95      0.95       114\n",
            "\n",
            "\n",
            "\n",
            "Random Forest Classifier:\n",
            "----------------------------------------------------------------------\n",
            "              precision    recall  f1-score   support\n",
            "\n",
            "           0       0.95      0.93      0.94        43\n",
            "           1       0.96      0.97      0.97        71\n",
            "\n",
            "    accuracy                           0.96       114\n",
            "   macro avg       0.96      0.95      0.95       114\n",
            "weighted avg       0.96      0.96      0.96       114\n",
            "\n",
            "\n",
            "\n",
            "Support Vector Machine:\n",
            "----------------------------------------------------------------------\n",
            "              precision    recall  f1-score   support\n",
            "\n",
            "           0       1.00      0.95      0.98        43\n",
            "           1       0.97      1.00      0.99        71\n",
            "\n",
            "    accuracy                           0.98       114\n",
            "   macro avg       0.99      0.98      0.98       114\n",
            "weighted avg       0.98      0.98      0.98       114\n",
            "\n",
            "\n",
            "\n",
            "K-Nearest Neighbors:\n",
            "----------------------------------------------------------------------\n",
            "              precision    recall  f1-score   support\n",
            "\n",
            "           0       0.93      0.93      0.93        43\n",
            "           1       0.96      0.96      0.96        71\n",
            "\n",
            "    accuracy                           0.95       114\n",
            "   macro avg       0.94      0.94      0.94       114\n",
            "weighted avg       0.95      0.95      0.95       114\n",
            "\n",
            "\n",
            "\n"
          ]
        }
      ]
    },
    {
      "cell_type": "markdown",
      "source": [
        "### Model Comparison"
      ],
      "metadata": {
        "id": "1VACPJdwh_2o"
      }
    },
    {
      "cell_type": "markdown",
      "source": [
        "#### Compare the performance of the five classification algorithms."
      ],
      "metadata": {
        "id": "EpPpIVVjiB48"
      }
    },
    {
      "cell_type": "code",
      "source": [
        "# Dataset balance\n",
        "sns.countplot(x=data.target)\n",
        "plt.ylabel('Count')\n",
        "plt.xlabel('Target')\n",
        "plt.title('Dataset Balance')\n",
        "plt.show()"
      ],
      "metadata": {
        "colab": {
          "base_uri": "https://localhost:8080/",
          "height": 472
        },
        "id": "xSX8SFDOghmz",
        "outputId": "a97e4067-78c9-44c4-a289-221b5712ae97"
      },
      "execution_count": 13,
      "outputs": [
        {
          "output_type": "display_data",
          "data": {
            "text/plain": [
              "<Figure size 640x480 with 1 Axes>"
            ],
            "image/png": "[encoded data removed]"
          },
          "metadata": {}
        }
      ]
    },
    {
      "cell_type": "markdown",
      "source": [
        "From the above plot, we can see the dataset is imbalanced If one class significantly outnumbers the other, accuracy can be misleading. For example, if 95% of the data is in one class, a model that always predicts the majority class could achieve 95% accuracy but still perform poorly for the minority class. In such cases, F1-score provides a better picture by balancing precision and recall."
      ],
      "metadata": {
        "id": "Z4XmeJKGkJAE"
      }
    },
    {
      "cell_type": "markdown",
      "source": [
        "####  If a model always predicts the majority class, it can achieve high accuracy without actually performing well on the minority class.\n",
        "$$\n",
        "\\text{Accuracy} = \\frac{\\text{True Positives} + \\text{True Negatives}}{\\text{Total Samples}}\n",
        "$$"
      ],
      "metadata": {
        "id": "ph9RRV7KNJfK"
      }
    },
    {
      "cell_type": "markdown",
      "source": [
        "#### F1-score: By balancing precision and recall, F1-score provides a more robust evaluation metric for imbalanced datasets. It ensures that the model is not biased towards the majority class and can effectively identify instances from the minority class.\n",
        "$$\n",
        "\\text{F1-Score} = \\text{2}\\times\\frac{Precision \\times Recall} {Precision + Recall }\n",
        "$$"
      ],
      "metadata": {
        "id": "PfvSqCorO11W"
      }
    },
    {
      "cell_type": "markdown",
      "source": [
        "So F1-score is a good metric for evaluating models"
      ],
      "metadata": {
        "id": "a2toTIfsmjqP"
      }
    },
    {
      "cell_type": "markdown",
      "source": [
        "#### Find the best model (Which algorithm performed the best and which one performed the worst?)"
      ],
      "metadata": {
        "id": "Vmt1brxuoo6A"
      }
    },
    {
      "cell_type": "code",
      "source": [
        "# Find the best performed algorithm\n",
        "temp_f1score = 0.00\n",
        "best_model = ''\n",
        "for model in models.keys():\n",
        "    if report[model]['weighted avg']['f1-score'] > temp_f1score:\n",
        "        temp_f1score = report[model]['weighted avg']['f1-score']\n",
        "        best_model = model\n",
        "dict_report_best = report[best_model].copy()\n",
        "best_accuracy = dict_report_best.pop('accuracy')\n",
        "bdf = (pd.DataFrame(dict_report_best).T).round(decimals = 2)\n",
        "print(f'The best performed algorithm is \"{best_model}\"\\n')\n",
        "print(bdf)\n",
        "print(f'\\naccuracy           {best_accuracy:.2f}')"
      ],
      "metadata": {
        "colab": {
          "base_uri": "https://localhost:8080/"
        },
        "id": "mfZAchHkbSwe",
        "outputId": "48bb6373-30a3-4107-91ee-1102845e0cc6"
      },
      "execution_count": 14,
      "outputs": [
        {
          "output_type": "stream",
          "name": "stdout",
          "text": [
            "The best performed algorithm is \"Support Vector Machine\"\n",
            "\n",
            "              precision  recall  f1-score  support\n",
            "0                  1.00    0.95      0.98     43.0\n",
            "1                  0.97    1.00      0.99     71.0\n",
            "macro avg          0.99    0.98      0.98    114.0\n",
            "weighted avg       0.98    0.98      0.98    114.0\n",
            "\n",
            "accuracy           0.98\n"
          ]
        }
      ]
    },
    {
      "cell_type": "code",
      "source": [
        "# Find the worst performed algorithm\n",
        "temp_f1score = 1.00\n",
        "worst_model = ''\n",
        "for model in models.keys():\n",
        "    if report[model]['weighted avg']['f1-score'] < temp_f1score:\n",
        "        temp_f1score = report[model]['weighted avg']['f1-score']\n",
        "        worst_model = model\n",
        "dict_report_worst = report[worst_model].copy()\n",
        "worst_accuracy = dict_report_worst.pop('accuracy')\n",
        "wdf = (pd.DataFrame(dict_report_worst).T).round(decimals = 2)\n",
        "print(f'The worst performed algorithm is \"{worst_model}\"\\n')\n",
        "print(wdf)\n",
        "print(f'\\naccuracy           {worst_accuracy:.2f}')"
      ],
      "metadata": {
        "colab": {
          "base_uri": "https://localhost:8080/"
        },
        "id": "7-4SfETdr8fi",
        "outputId": "49658644-ba76-45c4-caf0-1bf0b0966660"
      },
      "execution_count": 15,
      "outputs": [
        {
          "output_type": "stream",
          "name": "stdout",
          "text": [
            "The worst performed algorithm is \"Decision Tree Classifier\"\n",
            "\n",
            "              precision  recall  f1-score  support\n",
            "0                  0.93    0.93      0.93     43.0\n",
            "1                  0.96    0.96      0.96     71.0\n",
            "macro avg          0.94    0.94      0.94    114.0\n",
            "weighted avg       0.95    0.95      0.95    114.0\n",
            "\n",
            "accuracy           0.95\n"
          ]
        }
      ]
    }
  ]
}